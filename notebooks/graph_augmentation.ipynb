{
 "cells": [
  {
   "cell_type": "code",
   "execution_count": 1,
   "metadata": {},
   "outputs": [],
   "source": [
    "import os\n",
    "import sys\n",
    "\n",
    "FS_MOL_CHECKOUT_PATH = os.path.abspath(\"../\")\n",
    "\n",
    "os.chdir(FS_MOL_CHECKOUT_PATH)\n",
    "sys.path.insert(0, FS_MOL_CHECKOUT_PATH)"
   ]
  },
  {
   "cell_type": "code",
   "execution_count": 2,
   "metadata": {},
   "outputs": [],
   "source": [
    "from fs_mol.utils.visualization import visualize_pyg_mol_with_poses\n",
    "import torch\n",
    "import networkx as nx\n",
    "import random\n",
    "import torch\n",
    "from torch_geometric.data import Data\n",
    "from torch_geometric.utils import to_undirected, to_networkx\n",
    "import networkx as nx\n",
    "from fs_mol.augmentation_transforms.centrality import generate_aug_n_times\n",
    "from fs_mol.data.molclr import MolCLRSubgraphDataset\n",
    "\n",
    "from tqdm import tqdm\n",
    "import numpy as np"
   ]
  },
  {
   "cell_type": "code",
   "execution_count": 3,
   "metadata": {},
   "outputs": [
    {
     "name": "stdout",
     "output_type": "stream",
     "text": [
      "36\n"
     ]
    },
    {
     "data": {
      "image/svg+xml": [
       "<svg xmlns=\"http://www.w3.org/2000/svg\" xmlns:rdkit=\"http://www.rdkit.org/xml\" xmlns:xlink=\"http://www.w3.org/1999/xlink\" version=\"1.1\" baseProfile=\"full\" xml:space=\"preserve\" width=\"300px\" height=\"300px\" viewBox=\"0 0 300 300\">\n",
       "<!-- END OF HEADER -->\n",
       "<path class=\"bond-0 atom-0 atom-1\" d=\"M 15.0,135.6 L 57.8,134.3\" style=\"fill:none;fill-rule:evenodd;stroke:#000000;stroke-width:2.0px;stroke-linecap:butt;stroke-linejoin:miter;stroke-opacity:1\"/>\n",
       "<path class=\"bond-1 atom-1 atom-2\" d=\"M 57.8,134.3 L 66.7,148.7\" style=\"fill:none;fill-rule:evenodd;stroke:#000000;stroke-width:2.0px;stroke-linecap:butt;stroke-linejoin:miter;stroke-opacity:1\"/>\n",
       "<path class=\"bond-1 atom-1 atom-2\" d=\"M 66.7,148.7 L 75.7,163.1\" style=\"fill:none;fill-rule:evenodd;stroke:#0000FF;stroke-width:2.0px;stroke-linecap:butt;stroke-linejoin:miter;stroke-opacity:1\"/>\n",
       "<path class=\"bond-2 atom-2 atom-3\" d=\"M 76.3,178.1 L 68.2,193.2\" style=\"fill:none;fill-rule:evenodd;stroke:#0000FF;stroke-width:2.0px;stroke-linecap:butt;stroke-linejoin:miter;stroke-opacity:1\"/>\n",
       "<path class=\"bond-2 atom-2 atom-3\" d=\"M 68.2,193.2 L 60.1,208.3\" style=\"fill:none;fill-rule:evenodd;stroke:#000000;stroke-width:2.0px;stroke-linecap:butt;stroke-linejoin:miter;stroke-opacity:1\"/>\n",
       "<path class=\"bond-3 atom-2 atom-5\" d=\"M 86.4,170.4 L 104.7,169.8\" style=\"fill:none;fill-rule:evenodd;stroke:#0000FF;stroke-width:2.0px;stroke-linecap:butt;stroke-linejoin:miter;stroke-opacity:1\"/>\n",
       "<path class=\"bond-3 atom-2 atom-5\" d=\"M 104.7,169.8 L 123.1,169.3\" style=\"fill:none;fill-rule:evenodd;stroke:#000000;stroke-width:2.0px;stroke-linecap:butt;stroke-linejoin:miter;stroke-opacity:1\"/>\n",
       "<path class=\"bond-4 atom-3 atom-4\" d=\"M 60.1,208.3 L 17.4,209.7\" style=\"fill:none;fill-rule:evenodd;stroke:#000000;stroke-width:2.0px;stroke-linecap:butt;stroke-linejoin:miter;stroke-opacity:1\"/>\n",
       "<path class=\"bond-5 atom-5 atom-6\" d=\"M 123.1,169.3 L 149.4,203.1\" style=\"fill:none;fill-rule:evenodd;stroke:#000000;stroke-width:2.0px;stroke-linecap:butt;stroke-linejoin:miter;stroke-opacity:1\"/>\n",
       "<path class=\"bond-6 atom-5 atom-16\" d=\"M 123.1,169.3 L 147.2,133.8\" style=\"fill:none;fill-rule:evenodd;stroke:#000000;stroke-width:2.0px;stroke-linecap:butt;stroke-linejoin:miter;stroke-opacity:1\"/>\n",
       "<path class=\"bond-7 atom-6 atom-7\" d=\"M 149.4,203.1 L 189.6,188.5\" style=\"fill:none;fill-rule:evenodd;stroke:#000000;stroke-width:2.0px;stroke-linecap:butt;stroke-linejoin:miter;stroke-opacity:1\"/>\n",
       "<path class=\"bond-8 atom-7 atom-8\" d=\"M 189.6,188.5 L 188.3,145.8\" style=\"fill:none;fill-rule:evenodd;stroke:#000000;stroke-width:2.0px;stroke-linecap:butt;stroke-linejoin:miter;stroke-opacity:1\"/>\n",
       "<path class=\"bond-9 atom-8 atom-9\" d=\"M 188.3,145.8 L 206.6,147.1\" style=\"fill:none;fill-rule:evenodd;stroke:#000000;stroke-width:2.0px;stroke-linecap:butt;stroke-linejoin:miter;stroke-opacity:1\"/>\n",
       "<path class=\"bond-9 atom-8 atom-9\" d=\"M 206.6,147.1 L 224.9,148.4\" style=\"fill:none;fill-rule:evenodd;stroke:#0000FF;stroke-width:2.0px;stroke-linecap:butt;stroke-linejoin:miter;stroke-opacity:1\"/>\n",
       "<path class=\"bond-10 atom-8 atom-13\" d=\"M 188.3,145.8 L 195.8,103.6\" style=\"fill:none;fill-rule:evenodd;stroke:#000000;stroke-width:2.0px;stroke-linecap:butt;stroke-linejoin:miter;stroke-opacity:1\"/>\n",
       "<path class=\"bond-11 atom-8 atom-16\" d=\"M 188.3,145.8 L 147.2,133.8\" style=\"fill:none;fill-rule:evenodd;stroke:#000000;stroke-width:2.0px;stroke-linecap:butt;stroke-linejoin:miter;stroke-opacity:1\"/>\n",
       "<path class=\"bond-12 atom-9 atom-10\" d=\"M 234.6,156.4 L 242.1,171.9\" style=\"fill:none;fill-rule:evenodd;stroke:#0000FF;stroke-width:2.0px;stroke-linecap:butt;stroke-linejoin:miter;stroke-opacity:1\"/>\n",
       "<path class=\"bond-12 atom-9 atom-10\" d=\"M 242.1,171.9 L 249.6,187.4\" style=\"fill:none;fill-rule:evenodd;stroke:#000000;stroke-width:2.0px;stroke-linecap:butt;stroke-linejoin:miter;stroke-opacity:1\"/>\n",
       "<path class=\"bond-13 atom-10 atom-11\" d=\"M 249.6,187.4 L 285.0,211.5\" style=\"fill:none;fill-rule:evenodd;stroke:#000000;stroke-width:2.0px;stroke-linecap:butt;stroke-linejoin:miter;stroke-opacity:1\"/>\n",
       "<path class=\"bond-14 atom-10 atom-12\" d=\"M 249.6,187.4 L 246.5,230.1\" style=\"fill:none;fill-rule:evenodd;stroke:#000000;stroke-width:2.0px;stroke-linecap:butt;stroke-linejoin:miter;stroke-opacity:1\"/>\n",
       "<path class=\"bond-15 atom-11 atom-12\" d=\"M 285.0,211.5 L 246.5,230.1\" style=\"fill:none;fill-rule:evenodd;stroke:#000000;stroke-width:2.0px;stroke-linecap:butt;stroke-linejoin:miter;stroke-opacity:1\"/>\n",
       "<path class=\"bond-16 atom-13 atom-14\" d=\"M 195.8,103.6 L 212.5,97.6\" style=\"fill:none;fill-rule:evenodd;stroke:#000000;stroke-width:2.0px;stroke-linecap:butt;stroke-linejoin:miter;stroke-opacity:1\"/>\n",
       "<path class=\"bond-16 atom-13 atom-14\" d=\"M 212.5,97.6 L 229.1,91.6\" style=\"fill:none;fill-rule:evenodd;stroke:#FF0000;stroke-width:2.0px;stroke-linecap:butt;stroke-linejoin:miter;stroke-opacity:1\"/>\n",
       "<path class=\"bond-17 atom-13 atom-15\" d=\"M 195.8,103.6 L 183.0,92.8\" style=\"fill:none;fill-rule:evenodd;stroke:#000000;stroke-width:2.0px;stroke-linecap:butt;stroke-linejoin:miter;stroke-opacity:1\"/>\n",
       "<path class=\"bond-17 atom-13 atom-15\" d=\"M 183.0,92.8 L 170.1,81.9\" style=\"fill:none;fill-rule:evenodd;stroke:#FF0000;stroke-width:2.0px;stroke-linecap:butt;stroke-linejoin:miter;stroke-opacity:1\"/>\n",
       "<path d=\"M 55.6,134.3 L 57.8,134.3 L 58.2,135.0\" style=\"fill:none;stroke:#000000;stroke-width:2.0px;stroke-linecap:butt;stroke-linejoin:miter;stroke-opacity:1;\"/>\n",
       "<path d=\"M 60.5,207.6 L 60.1,208.3 L 58.0,208.4\" style=\"fill:none;stroke:#000000;stroke-width:2.0px;stroke-linecap:butt;stroke-linejoin:miter;stroke-opacity:1;\"/>\n",
       "<path d=\"M 148.1,201.4 L 149.4,203.1 L 151.4,202.3\" style=\"fill:none;stroke:#000000;stroke-width:2.0px;stroke-linecap:butt;stroke-linejoin:miter;stroke-opacity:1;\"/>\n",
       "<path d=\"M 187.6,189.3 L 189.6,188.5 L 189.6,186.4\" style=\"fill:none;stroke:#000000;stroke-width:2.0px;stroke-linecap:butt;stroke-linejoin:miter;stroke-opacity:1;\"/>\n",
       "<path d=\"M 283.2,210.3 L 285.0,211.5 L 283.1,212.4\" style=\"fill:none;stroke:#000000;stroke-width:2.0px;stroke-linecap:butt;stroke-linejoin:miter;stroke-opacity:1;\"/>\n",
       "<path d=\"M 246.6,228.0 L 246.5,230.1 L 248.4,229.2\" style=\"fill:none;stroke:#000000;stroke-width:2.0px;stroke-linecap:butt;stroke-linejoin:miter;stroke-opacity:1;\"/>\n",
       "<path d=\"M 146.0,135.6 L 147.2,133.8 L 149.2,134.4\" style=\"fill:none;stroke:#000000;stroke-width:2.0px;stroke-linecap:butt;stroke-linejoin:miter;stroke-opacity:1;\"/>\n",
       "<path class=\"atom-2\" d=\"M 77.7 164.6 L 81.6 171.0 Q 82.0 171.6, 82.7 172.8 Q 83.3 173.9, 83.3 174.0 L 83.3 164.6 L 84.9 164.6 L 84.9 176.7 L 83.3 176.7 L 79.0 169.7 Q 78.5 168.8, 78.0 167.9 Q 77.5 167.0, 77.3 166.7 L 77.3 176.7 L 75.7 176.7 L 75.7 164.6 L 77.7 164.6 \" fill=\"#0000FF\"/>\n",
       "<path class=\"atom-9\" d=\"M 228.3 142.8 L 232.2 149.2 Q 232.6 149.9, 233.3 151.0 Q 233.9 152.2, 233.9 152.2 L 233.9 142.8 L 235.5 142.8 L 235.5 154.9 L 233.9 154.9 L 229.6 147.9 Q 229.1 147.1, 228.6 146.2 Q 228.1 145.2, 227.9 144.9 L 227.9 154.9 L 226.4 154.9 L 226.4 142.8 L 228.3 142.8 \" fill=\"#0000FF\"/>\n",
       "<path class=\"atom-9\" d=\"M 237.9 142.8 L 239.5 142.8 L 239.5 148.0 L 245.7 148.0 L 245.7 142.8 L 247.4 142.8 L 247.4 154.9 L 245.7 154.9 L 245.7 149.3 L 239.5 149.3 L 239.5 154.9 L 237.9 154.9 L 237.9 142.8 \" fill=\"#0000FF\"/>\n",
       "<path class=\"atom-14\" d=\"M 230.5 89.2 Q 230.5 86.3, 232.0 84.6 Q 233.4 83.0, 236.1 83.0 Q 238.8 83.0, 240.2 84.6 Q 241.7 86.3, 241.7 89.2 Q 241.7 92.1, 240.2 93.8 Q 238.7 95.4, 236.1 95.4 Q 233.4 95.4, 232.0 93.8 Q 230.5 92.1, 230.5 89.2 M 236.1 94.1 Q 237.9 94.1, 238.9 92.8 Q 239.9 91.6, 239.9 89.2 Q 239.9 86.8, 238.9 85.6 Q 237.9 84.4, 236.1 84.4 Q 234.2 84.4, 233.2 85.6 Q 232.2 86.8, 232.2 89.2 Q 232.2 91.6, 233.2 92.8 Q 234.2 94.1, 236.1 94.1 \" fill=\"#FF0000\"/>\n",
       "<path class=\"atom-14\" d=\"M 243.5 83.1 L 245.2 83.1 L 245.2 88.3 L 251.4 88.3 L 251.4 83.1 L 253.0 83.1 L 253.0 95.3 L 251.4 95.3 L 251.4 89.7 L 245.2 89.7 L 245.2 95.3 L 243.5 95.3 L 243.5 83.1 \" fill=\"#FF0000\"/>\n",
       "<path class=\"atom-15\" d=\"M 145.6 70.0 L 147.2 70.0 L 147.2 75.2 L 153.4 75.2 L 153.4 70.0 L 155.1 70.0 L 155.1 82.2 L 153.4 82.2 L 153.4 76.6 L 147.2 76.6 L 147.2 82.2 L 145.6 82.2 L 145.6 70.0 \" fill=\"#FF0000\"/>\n",
       "<path class=\"atom-15\" d=\"M 157.6 76.1 Q 157.6 73.2, 159.0 71.5 Q 160.4 69.9, 163.1 69.9 Q 165.8 69.9, 167.3 71.5 Q 168.7 73.2, 168.7 76.1 Q 168.7 79.0, 167.2 80.7 Q 165.8 82.4, 163.1 82.4 Q 160.5 82.4, 159.0 80.7 Q 157.6 79.0, 157.6 76.1 M 163.1 81.0 Q 165.0 81.0, 166.0 79.7 Q 167.0 78.5, 167.0 76.1 Q 167.0 73.7, 166.0 72.5 Q 165.0 71.3, 163.1 71.3 Q 161.3 71.3, 160.3 72.5 Q 159.3 73.7, 159.3 76.1 Q 159.3 78.5, 160.3 79.7 Q 161.3 81.0, 163.1 81.0 \" fill=\"#FF0000\"/>\n",
       "</svg>"
      ],
      "text/plain": [
       "<IPython.core.display.SVG object>"
      ]
     },
     "execution_count": 3,
     "metadata": {},
     "output_type": "execute_result"
    }
   ],
   "source": [
    "mol = torch.load('/data/data/no_hydrogens_no_3d/1.pt')\n",
    "\n",
    "visualize_pyg_mol_with_poses(mol)"
   ]
  },
  {
   "cell_type": "code",
   "execution_count": 20,
   "metadata": {},
   "outputs": [
    {
     "name": "stdout",
     "output_type": "stream",
     "text": [
      "30\n"
     ]
    },
    {
     "data": {
      "image/svg+xml": [
       "<svg xmlns=\"http://www.w3.org/2000/svg\" xmlns:rdkit=\"http://www.rdkit.org/xml\" xmlns:xlink=\"http://www.w3.org/1999/xlink\" version=\"1.1\" baseProfile=\"full\" xml:space=\"preserve\" width=\"300px\" height=\"300px\" viewBox=\"0 0 300 300\">\n",
       "<!-- END OF HEADER -->\n",
       "<path class=\"bond-0 atom-0 atom-1\" d=\"M 278.2,200.8 L 239.2,196.9\" style=\"fill:none;fill-rule:evenodd;stroke:#000000;stroke-width:2.0px;stroke-linecap:butt;stroke-linejoin:miter;stroke-opacity:1\"/>\n",
       "<path class=\"bond-1 atom-1 atom-2\" d=\"M 239.2,196.9 L 232.7,182.5\" style=\"fill:none;fill-rule:evenodd;stroke:#000000;stroke-width:2.0px;stroke-linecap:butt;stroke-linejoin:miter;stroke-opacity:1\"/>\n",
       "<path class=\"bond-1 atom-1 atom-2\" d=\"M 232.7,182.5 L 226.2,168.0\" style=\"fill:none;fill-rule:evenodd;stroke:#0000FF;stroke-width:2.0px;stroke-linecap:butt;stroke-linejoin:miter;stroke-opacity:1\"/>\n",
       "<path class=\"bond-2 atom-2 atom-3\" d=\"M 228.0,154.3 L 237.0,141.8\" style=\"fill:none;fill-rule:evenodd;stroke:#0000FF;stroke-width:2.0px;stroke-linecap:butt;stroke-linejoin:miter;stroke-opacity:1\"/>\n",
       "<path class=\"bond-2 atom-2 atom-3\" d=\"M 237.0,141.8 L 246.0,129.4\" style=\"fill:none;fill-rule:evenodd;stroke:#000000;stroke-width:2.0px;stroke-linecap:butt;stroke-linejoin:miter;stroke-opacity:1\"/>\n",
       "<path class=\"bond-3 atom-2 atom-5\" d=\"M 217.6,160.6 L 200.8,159.0\" style=\"fill:none;fill-rule:evenodd;stroke:#0000FF;stroke-width:2.0px;stroke-linecap:butt;stroke-linejoin:miter;stroke-opacity:1\"/>\n",
       "<path class=\"bond-3 atom-2 atom-5\" d=\"M 200.8,159.0 L 184.1,157.3\" style=\"fill:none;fill-rule:evenodd;stroke:#000000;stroke-width:2.0px;stroke-linecap:butt;stroke-linejoin:miter;stroke-opacity:1\"/>\n",
       "<path class=\"bond-4 atom-3 atom-4\" d=\"M 246.0,129.4 L 285.0,133.3\" style=\"fill:none;fill-rule:evenodd;stroke:#000000;stroke-width:2.0px;stroke-linecap:butt;stroke-linejoin:miter;stroke-opacity:1\"/>\n",
       "<path class=\"bond-5 atom-5 atom-6\" d=\"M 184.1,157.3 L 164.3,123.4\" style=\"fill:none;fill-rule:evenodd;stroke:#000000;stroke-width:2.0px;stroke-linecap:butt;stroke-linejoin:miter;stroke-opacity:1\"/>\n",
       "<path class=\"bond-6 atom-5 atom-14\" d=\"M 184.1,157.3 L 158.0,186.6\" style=\"fill:none;fill-rule:evenodd;stroke:#000000;stroke-width:2.0px;stroke-linecap:butt;stroke-linejoin:miter;stroke-opacity:1\"/>\n",
       "<path class=\"bond-7 atom-6 atom-7\" d=\"M 164.3,123.4 L 126.0,131.8\" style=\"fill:none;fill-rule:evenodd;stroke:#000000;stroke-width:2.0px;stroke-linecap:butt;stroke-linejoin:miter;stroke-opacity:1\"/>\n",
       "<path class=\"bond-8 atom-7 atom-8\" d=\"M 126.0,131.8 L 122.1,170.8\" style=\"fill:none;fill-rule:evenodd;stroke:#000000;stroke-width:2.0px;stroke-linecap:butt;stroke-linejoin:miter;stroke-opacity:1\"/>\n",
       "<path class=\"bond-9 atom-8 atom-9\" d=\"M 122.1,170.8 L 107.9,179.1\" style=\"fill:none;fill-rule:evenodd;stroke:#000000;stroke-width:2.0px;stroke-linecap:butt;stroke-linejoin:miter;stroke-opacity:1\"/>\n",
       "<path class=\"bond-9 atom-8 atom-9\" d=\"M 107.9,179.1 L 93.8,187.3\" style=\"fill:none;fill-rule:evenodd;stroke:#0000FF;stroke-width:2.0px;stroke-linecap:butt;stroke-linejoin:miter;stroke-opacity:1\"/>\n",
       "<path class=\"bond-10 atom-8 atom-14\" d=\"M 122.1,170.8 L 158.0,186.6\" style=\"fill:none;fill-rule:evenodd;stroke:#000000;stroke-width:2.0px;stroke-linecap:butt;stroke-linejoin:miter;stroke-opacity:1\"/>\n",
       "<path class=\"bond-11 atom-9 atom-10\" d=\"M 82.8,187.4 L 68.5,179.3\" style=\"fill:none;fill-rule:evenodd;stroke:#0000FF;stroke-width:2.0px;stroke-linecap:butt;stroke-linejoin:miter;stroke-opacity:1\"/>\n",
       "<path class=\"bond-11 atom-9 atom-10\" d=\"M 68.5,179.3 L 54.2,171.1\" style=\"fill:none;fill-rule:evenodd;stroke:#000000;stroke-width:2.0px;stroke-linecap:butt;stroke-linejoin:miter;stroke-opacity:1\"/>\n",
       "<path class=\"bond-12 atom-10 atom-11\" d=\"M 54.2,171.1 L 15.0,171.3\" style=\"fill:none;fill-rule:evenodd;stroke:#000000;stroke-width:2.0px;stroke-linecap:butt;stroke-linejoin:miter;stroke-opacity:1\"/>\n",
       "<path class=\"bond-13 atom-10 atom-12\" d=\"M 54.2,171.1 L 34.4,137.3\" style=\"fill:none;fill-rule:evenodd;stroke:#000000;stroke-width:2.0px;stroke-linecap:butt;stroke-linejoin:miter;stroke-opacity:1\"/>\n",
       "<path class=\"bond-14 atom-11 atom-12\" d=\"M 15.0,171.3 L 34.4,137.3\" style=\"fill:none;fill-rule:evenodd;stroke:#000000;stroke-width:2.0px;stroke-linecap:butt;stroke-linejoin:miter;stroke-opacity:1\"/>\n",
       "<path d=\"M 241.2,197.1 L 239.2,196.9 L 238.9,196.2\" style=\"fill:none;stroke:#000000;stroke-width:2.0px;stroke-linecap:butt;stroke-linejoin:miter;stroke-opacity:1;\"/>\n",
       "<path d=\"M 245.5,130.0 L 246.0,129.4 L 247.9,129.5\" style=\"fill:none;stroke:#000000;stroke-width:2.0px;stroke-linecap:butt;stroke-linejoin:miter;stroke-opacity:1;\"/>\n",
       "<path d=\"M 165.3,125.1 L 164.3,123.4 L 162.4,123.8\" style=\"fill:none;stroke:#000000;stroke-width:2.0px;stroke-linecap:butt;stroke-linejoin:miter;stroke-opacity:1;\"/>\n",
       "<path d=\"M 127.9,131.4 L 126.0,131.8 L 125.8,133.7\" style=\"fill:none;stroke:#000000;stroke-width:2.0px;stroke-linecap:butt;stroke-linejoin:miter;stroke-opacity:1;\"/>\n",
       "<path d=\"M 17.0,171.3 L 15.0,171.3 L 16.0,169.6\" style=\"fill:none;stroke:#000000;stroke-width:2.0px;stroke-linecap:butt;stroke-linejoin:miter;stroke-opacity:1;\"/>\n",
       "<path d=\"M 35.4,139.0 L 34.4,137.3 L 33.5,139.0\" style=\"fill:none;stroke:#000000;stroke-width:2.0px;stroke-linecap:butt;stroke-linejoin:miter;stroke-opacity:1;\"/>\n",
       "<path d=\"M 159.3,185.1 L 158.0,186.6 L 156.2,185.8\" style=\"fill:none;stroke:#000000;stroke-width:2.0px;stroke-linecap:butt;stroke-linejoin:miter;stroke-opacity:1;\"/>\n",
       "<path class=\"atom-2\" d=\"M 220.6 155.6 L 224.3 161.5 Q 224.6 162.1, 225.2 163.1 Q 225.8 164.2, 225.8 164.3 L 225.8 155.6 L 227.3 155.6 L 227.3 166.7 L 225.8 166.7 L 221.9 160.3 Q 221.4 159.6, 220.9 158.7 Q 220.5 157.8, 220.3 157.6 L 220.3 166.7 L 218.9 166.7 L 218.9 155.6 L 220.6 155.6 \" fill=\"#0000FF\"/>\n",
       "<path class=\"atom-9\" d=\"M 85.8 185.0 L 89.4 190.9 Q 89.8 191.5, 90.4 192.5 Q 91.0 193.6, 91.0 193.6 L 91.0 185.0 L 92.5 185.0 L 92.5 196.1 L 90.9 196.1 L 87.0 189.7 Q 86.6 188.9, 86.1 188.1 Q 85.6 187.2, 85.5 186.9 L 85.5 196.1 L 84.0 196.1 L 84.0 185.0 L 85.8 185.0 \" fill=\"#0000FF\"/>\n",
       "<path class=\"atom-9\" d=\"M 83.9 197.2 L 85.4 197.2 L 85.4 201.9 L 91.1 201.9 L 91.1 197.2 L 92.6 197.2 L 92.6 208.3 L 91.1 208.3 L 91.1 203.2 L 85.4 203.2 L 85.4 208.3 L 83.9 208.3 L 83.9 197.2 \" fill=\"#0000FF\"/>\n",
       "<path class=\"atom-13\" d=\"M 136.0 91.8 L 137.5 91.8 L 137.5 96.5 L 143.2 96.5 L 143.2 91.8 L 144.7 91.8 L 144.7 102.9 L 143.2 102.9 L 143.2 97.8 L 137.5 97.8 L 137.5 102.9 L 136.0 102.9 L 136.0 91.8 \" fill=\"#FF0000\"/>\n",
       "<path class=\"atom-13\" d=\"M 146.9 102.5 Q 147.2 101.8, 147.8 101.4 Q 148.5 101.0, 149.4 101.0 Q 150.5 101.0, 151.1 101.6 Q 151.7 102.2, 151.7 103.3 Q 151.7 104.4, 150.9 105.4 Q 150.1 106.4, 148.4 107.6 L 151.8 107.6 L 151.8 108.5 L 146.9 108.5 L 146.9 107.8 Q 148.3 106.8, 149.1 106.1 Q 149.9 105.3, 150.3 104.7 Q 150.7 104.0, 150.7 103.4 Q 150.7 102.7, 150.3 102.3 Q 150.0 101.9, 149.4 101.9 Q 148.8 101.9, 148.4 102.1 Q 148.0 102.4, 147.7 102.9 L 146.9 102.5 \" fill=\"#FF0000\"/>\n",
       "<path class=\"atom-13\" d=\"M 153.3 97.3 Q 153.3 94.7, 154.6 93.2 Q 156.0 91.7, 158.4 91.7 Q 160.9 91.7, 162.2 93.2 Q 163.5 94.7, 163.5 97.3 Q 163.5 100.0, 162.2 101.6 Q 160.9 103.1, 158.4 103.1 Q 156.0 103.1, 154.6 101.6 Q 153.3 100.0, 153.3 97.3 M 158.4 101.8 Q 160.1 101.8, 161.0 100.7 Q 162.0 99.6, 162.0 97.3 Q 162.0 95.1, 161.0 94.0 Q 160.1 92.9, 158.4 92.9 Q 156.7 92.9, 155.8 94.0 Q 154.9 95.1, 154.9 97.3 Q 154.9 99.6, 155.8 100.7 Q 156.7 101.8, 158.4 101.8 \" fill=\"#FF0000\"/>\n",
       "</svg>"
      ],
      "text/plain": [
       "<IPython.core.display.SVG object>"
      ]
     },
     "execution_count": 20,
     "metadata": {},
     "output_type": "execute_result"
    }
   ],
   "source": [
    "from fs_mol.augmentation_transforms.k_hop_subgraph import remove_k_hop_subgraph\n",
    "\n",
    "\n",
    "new_mol = remove_k_hop_subgraph(mol, 1)\n",
    "visualize_pyg_mol_with_poses(new_mol)"
   ]
  }
 ],
 "metadata": {
  "kernelspec": {
   "display_name": "Python 3",
   "language": "python",
   "name": "python3"
  },
  "language_info": {
   "codemirror_mode": {
    "name": "ipython",
    "version": 3
   },
   "file_extension": ".py",
   "mimetype": "text/x-python",
   "name": "python",
   "nbconvert_exporter": "python",
   "pygments_lexer": "ipython3",
   "version": "3.10.12"
  },
  "orig_nbformat": 4
 },
 "nbformat": 4,
 "nbformat_minor": 2
}
