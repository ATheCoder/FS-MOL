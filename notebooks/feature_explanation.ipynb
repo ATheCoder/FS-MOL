{
 "cells": [
  {
   "cell_type": "code",
   "execution_count": 6,
   "metadata": {},
   "outputs": [],
   "source": [
    "import os\n",
    "import sys\n",
    "from rdkit import Chem\n",
    "\n",
    "FS_MOL_CHECKOUT_PATH = os.path.abspath('../')\n",
    "\n",
    "os.chdir(FS_MOL_CHECKOUT_PATH)\n",
    "sys.path.insert(0, FS_MOL_CHECKOUT_PATH)"
   ]
  },
  {
   "cell_type": "code",
   "execution_count": 10,
   "metadata": {},
   "outputs": [],
   "source": [
    "import torch"
   ]
  },
  {
   "cell_type": "code",
   "execution_count": 11,
   "metadata": {},
   "outputs": [],
   "source": [
    "graphs = torch.load('./fsmol_pygs.pt')"
   ]
  },
  {
   "cell_type": "code",
   "execution_count": 12,
   "metadata": {},
   "outputs": [
    {
     "data": {
      "text/plain": [
       "Data(x=[19, 32], edge_index=[2, 20], edge_attr=[20], y=0, bool_label=False, smiles='CCC=Nc1nc(Cc2ccccc2O)c(O)n1C')"
      ]
     },
     "execution_count": 12,
     "metadata": {},
     "output_type": "execute_result"
    }
   ],
   "source": [
    "graph = graphs[0]\n",
    "\n",
    "graph"
   ]
  },
  {
   "cell_type": "code",
   "execution_count": 21,
   "metadata": {},
   "outputs": [
    {
     "data": {
      "text/plain": [
       "<rdkit.Chem.rdchem.Mol at 0x7f7116927eb0>"
      ]
     },
     "execution_count": 21,
     "metadata": {},
     "output_type": "execute_result"
    }
   ],
   "source": [
    "import sys, importlib\n",
    "from fs_mol.utils.visualization import convert_graph_to_mol\n",
    "\n",
    "mol = Chem.MolFromSmiles(graph.smiles)\n",
    "mol"
   ]
  },
  {
   "cell_type": "code",
   "execution_count": 7,
   "metadata": {},
   "outputs": [],
   "source": [
    "from dpu_utils.utils import RichPath\n",
    "\n",
    "metapath = RichPath.create('/FS-MOL/fs_mol/preprocessing/utils/helper_files/')\n",
    "path = metapath.join(\"metadata.pkl.gz\")\n",
    "metadata = path.read_by_file_suffix()\n",
    "atom_feature_extractors = metadata[\"feature_extractors\"]"
   ]
  },
  {
   "cell_type": "code",
   "execution_count": 8,
   "metadata": {},
   "outputs": [
    {
     "data": {
      "text/plain": [
       "[<fs_mol.preprocessing.featurisers.featurisers.AtomTypeFeatureExtractor at 0x7f731bed4af0>,\n",
       " <fs_mol.preprocessing.featurisers.featurisers.AtomDegreeFeatureExtractor at 0x7f730e8aeb50>,\n",
       " <fs_mol.preprocessing.featurisers.featurisers.AtomChargeFeatureExtractor at 0x7f731bb8e4f0>,\n",
       " <fs_mol.preprocessing.featurisers.featurisers.AtomNumRadicalElectronsFeatureExtractor at 0x7f730d21da30>,\n",
       " <fs_mol.preprocessing.featurisers.featurisers.AtomRingInformationExtractor at 0x7f730d21d3a0>]"
      ]
     },
     "execution_count": 8,
     "metadata": {},
     "output_type": "execute_result"
    }
   ],
   "source": [
    "atom_feature_extractors # There are the feature extractors used inside FS-MOL."
   ]
  },
  {
   "attachments": {},
   "cell_type": "markdown",
   "metadata": {},
   "source": [
    "#### FS-MOL Features\n",
    "\n",
    "1. AtomTypeFeatureExtractor\n",
    "2. AtomDegreeFeatureExtractor\n",
    "3. AtomChargeFeatureExtractor\n",
    "4. AtomNumRadicalElectronsFeatureExrtactor\n",
    "5. AtomRingInformationExtractor\n",
    "\n"
   ]
  },
  {
   "cell_type": "code",
   "execution_count": 22,
   "metadata": {},
   "outputs": [],
   "source": [
    "from fs_mol.preprocessing.featurisers.molgraph_utils import molecule_to_graph\n",
    "\n",
    "\n",
    "graph_generated_from_featurizers = molecule_to_graph(mol, atom_feature_extractors)\n",
    "\n",
    "node_features_tensor = torch.Tensor(graph_generated_from_featurizers[\"node_features\"])"
   ]
  },
  {
   "cell_type": "code",
   "execution_count": 23,
   "metadata": {},
   "outputs": [
    {
     "data": {
      "text/plain": [
       "torch.Size([19, 32])"
      ]
     },
     "execution_count": 23,
     "metadata": {},
     "output_type": "execute_result"
    }
   ],
   "source": [
    "node_features_tensor.shape"
   ]
  },
  {
   "attachments": {},
   "cell_type": "markdown",
   "metadata": {},
   "source": [
    "This Proves that these are the same features that were generated using FSMol:"
   ]
  },
  {
   "cell_type": "code",
   "execution_count": 24,
   "metadata": {},
   "outputs": [
    {
     "data": {
      "text/plain": [
       "True"
      ]
     },
     "execution_count": 24,
     "metadata": {},
     "output_type": "execute_result"
    }
   ],
   "source": [
    "torch.equal(node_features_tensor, graph.x)"
   ]
  }
 ],
 "metadata": {
  "kernelspec": {
   "display_name": "Python 3.8.13 ('base')",
   "language": "python",
   "name": "python3"
  },
  "language_info": {
   "codemirror_mode": {
    "name": "ipython",
    "version": 3
   },
   "file_extension": ".py",
   "mimetype": "text/x-python",
   "name": "python",
   "nbconvert_exporter": "python",
   "pygments_lexer": "ipython3",
   "version": "3.8.13"
  },
  "orig_nbformat": 4,
  "vscode": {
   "interpreter": {
    "hash": "d4d1e4263499bec80672ea0156c357c1ee493ec2b1c70f0acce89fc37c4a6abe"
   }
  }
 },
 "nbformat": 4,
 "nbformat_minor": 2
}
