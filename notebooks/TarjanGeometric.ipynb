{
 "cells": [
  {
   "cell_type": "markdown",
   "metadata": {},
   "source": [
    "<!-- wasserstein distance\n",
    "also called: earth movers distance\n",
    "also called sinkhorn distance\n",
    "Ojas Shirekar19:34\n",
    "optimal transport using sinkhorn knopp gives sinkhorn distances -->"
   ]
  },
  {
   "cell_type": "code",
   "execution_count": 1,
   "metadata": {},
   "outputs": [],
   "source": [
    "import os\n",
    "import sys\n",
    "\n",
    "FS_MOL_CHECKOUT_PATH = os.path.abspath(\"../\")\n",
    "\n",
    "os.chdir(FS_MOL_CHECKOUT_PATH)\n",
    "sys.path.insert(0, FS_MOL_CHECKOUT_PATH)"
   ]
  },
  {
   "cell_type": "code",
   "execution_count": 2,
   "metadata": {},
   "outputs": [],
   "source": [
    "from fs_mol.converters.smiles_to_mxm import preprocess_smile\n",
    "from fs_mol.data import FSMolTask\n",
    "from dpu_utils.utils import RichPath\n",
    "import torch\n",
    "from rdkit.Chem import Draw\n",
    "from IPython.core.display import SVG\n",
    "\n",
    "from fs_mol.utils.visualization import (\n",
    "    display_molecules,\n",
    "    generate_mol_from_pyg_data,\n",
    "    visualize_pyg_mol_with_poses,\n",
    ")\n",
    "from preprocessing.geometric import get_all_divisions\n",
    "from utils import generate_random_color_list\n",
    "\n",
    "p = \"/FS-MOL/datasets/fs-mol/train/CHEMBL1613997.jsonl.gz\"\n",
    "\n",
    "task = FSMolTask.load_from_file(RichPath.create(p))\n",
    "\n",
    "\n",
    "def has_isolated_node(data):\n",
    "    all_nodes = set(range(data.x.size(0)))\n",
    "    connected_nodes = set(data.edge_index.view(-1).tolist())\n",
    "    isolated_nodes = all_nodes - connected_nodes\n",
    "\n",
    "    return len(isolated_nodes) > 0\n",
    "\n",
    "\n",
    "# Example:\n",
    "\n",
    "\n",
    "def _generate_highlight_map(list_of_subgraphs):\n",
    "    num_subgraphs = len(list_of_subgraphs)\n",
    "    colors = generate_random_color_list(num_subgraphs)\n",
    "\n",
    "    highlight_map = {}\n",
    "    for scc_index, subgraph in enumerate(list_of_subgraphs):\n",
    "        for atom_index in subgraph:\n",
    "            highlight_map[atom_index] = colors[scc_index]\n",
    "    return highlight_map\n",
    "\n",
    "\n",
    "def highlight_subgraphs(data, list_of_subgraphs):\n",
    "    highlight_map = _generate_highlight_map(list_of_subgraphs)\n",
    "\n",
    "    mol = generate_mol_from_pyg_data(data)\n",
    "    drawer = Draw.rdMolDraw2D.MolDraw2DSVG(300, 300)\n",
    "    opts = drawer.drawOptions()\n",
    "    opts.clearBackground = False\n",
    "    drawer.DrawMolecule(mol, highlightAtoms=highlight_map.keys(), highlightAtomColors=highlight_map)\n",
    "    drawer.FinishDrawing()\n",
    "    svg = SVG(drawer.GetDrawingText())\n",
    "\n",
    "    return svg"
   ]
  },
  {
   "cell_type": "code",
   "execution_count": 4,
   "metadata": {},
   "outputs": [
    {
     "name": "stdout",
     "output_type": "stream",
     "text": [
      "30\n"
     ]
    }
   ],
   "source": [
    "from collections import OrderedDict\n",
    "from torch_geometric.data import Data\n",
    "import torch\n",
    "import networkx as nx\n",
    "\n",
    "from torch_geometric.data import Data\n",
    "\n",
    "from fs_mol.converters.smiles_to_mxm import preprocess_smile\n",
    "from torch_geometric.utils import to_undirected, to_networkx, from_networkx\n",
    "\n",
    "import torch\n",
    "\n",
    "from fs_mol.utils.visualization import (\n",
    "    display_molecules,\n",
    "    save_mol_as_svg,\n",
    "    visualize_pyg_mol_with_poses,\n",
    ")\n",
    "from preprocessing.geometric import get_all_divisions, get_division_indices\n",
    "from utils.pyg_mol_utils.removehs import removeHs\n",
    "\n",
    "\n",
    "data = preprocess_smile(\"CC(C)Cc1ccc(cc1)[C@@H](C)C(=O)O\")\n",
    "\n",
    "data = removeHs(data)\n",
    "\n",
    "save_mol_as_svg(generate_mol_from_pyg_data(data), f\"/FS-MOL/ibuprofen/subgraphs/input.svg\")"
   ]
  },
  {
   "cell_type": "code",
   "execution_count": null,
   "metadata": {},
   "outputs": [],
   "source": [
    "breakdown = get_division_indices(data, 5)[-1]\n",
    "\n",
    "highlight_subgraphs(data, breakdown)"
   ]
  },
  {
   "cell_type": "code",
   "execution_count": 7,
   "metadata": {},
   "outputs": [
    {
     "name": "stdout",
     "output_type": "stream",
     "text": [
      "3\n",
      "6\n",
      "4\n"
     ]
    },
    {
     "data": {
      "text/plain": [
       "[None, None, None]"
      ]
     },
     "execution_count": 7,
     "metadata": {},
     "output_type": "execute_result"
    }
   ],
   "source": [
    "from fs_mol.utils.visualization import save_mol_as_svg\n",
    "from preprocessing.geometric import (\n",
    "    generate_subgraphs_using_connected_components,\n",
    ")\n",
    "\n",
    "\n",
    "graphs = generate_subgraphs_using_connected_components(data, [breakdown])[-1]\n",
    "\n",
    "[\n",
    "    save_mol_as_svg(generate_mol_from_pyg_data(\n",
    "        g), f\"/FS-MOL/ibuprofen/subgraphs/{i}.svg\")\n",
    "    for i, g in enumerate(graphs)\n",
    "]"
   ]
  },
  {
   "cell_type": "code",
   "execution_count": 5,
   "metadata": {},
   "outputs": [
    {
     "name": "stdout",
     "output_type": "stream",
     "text": [
      "4\n"
     ]
    },
    {
     "data": {
      "image/svg+xml": [
       "<svg xmlns=\"http://www.w3.org/2000/svg\" xmlns:rdkit=\"http://www.rdkit.org/xml\" xmlns:xlink=\"http://www.w3.org/1999/xlink\" version=\"1.1\" baseProfile=\"full\" xml:space=\"preserve\" width=\"300px\" height=\"300px\" viewBox=\"0 0 300 300\">\n",
       "<!-- END OF HEADER -->\n",
       "<path class=\"bond-0 atom-0 atom-1\" d=\"M 92.5,81.5 L 13.6,127.0\" style=\"fill:none;fill-rule:evenodd;stroke:#000000;stroke-width:2.0px;stroke-linecap:butt;stroke-linejoin:miter;stroke-opacity:1\"/>\n",
       "<path class=\"bond-1 atom-0 atom-2\" d=\"M 92.5,81.5 L 171.4,127.0\" style=\"fill:none;fill-rule:evenodd;stroke:#000000;stroke-width:2.0px;stroke-linecap:butt;stroke-linejoin:miter;stroke-opacity:1\"/>\n",
       "<path class=\"bond-2 atom-2 atom-3\" d=\"M 171.4,127.0 L 203.4,108.5\" style=\"fill:none;fill-rule:evenodd;stroke:#000000;stroke-width:2.0px;stroke-linecap:butt;stroke-linejoin:miter;stroke-opacity:1\"/>\n",
       "<path class=\"bond-2 atom-2 atom-3\" d=\"M 203.4,108.5 L 235.5,90.0\" style=\"fill:none;fill-rule:evenodd;stroke:#FF0000;stroke-width:2.0px;stroke-linecap:butt;stroke-linejoin:miter;stroke-opacity:1\"/>\n",
       "<path class=\"bond-3 atom-2 atom-4\" d=\"M 171.4,127.0 L 171.4,164.5\" style=\"fill:none;fill-rule:evenodd;stroke:#000000;stroke-width:2.0px;stroke-linecap:butt;stroke-linejoin:miter;stroke-opacity:1\"/>\n",
       "<path class=\"bond-3 atom-2 atom-4\" d=\"M 171.4,164.5 L 171.4,202.1\" style=\"fill:none;fill-rule:evenodd;stroke:#FF0000;stroke-width:2.0px;stroke-linecap:butt;stroke-linejoin:miter;stroke-opacity:1\"/>\n",
       "<path d=\"M 88.6,83.8 L 92.5,81.5 L 96.5,83.8\" style=\"fill:none;stroke:#000000;stroke-width:2.0px;stroke-linecap:butt;stroke-linejoin:miter;stroke-opacity:1;\"/>\n",
       "<path class=\"atom-3\" d=\"M 238.5 81.5 Q 238.5 75.4, 241.5 71.9 Q 244.6 68.4, 250.3 68.4 Q 256.0 68.4, 259.1 71.9 Q 262.2 75.4, 262.2 81.5 Q 262.2 87.8, 259.1 91.4 Q 256.0 94.9, 250.3 94.9 Q 244.6 94.9, 241.5 91.4 Q 238.5 87.9, 238.5 81.5 M 250.3 92.0 Q 254.3 92.0, 256.4 89.4 Q 258.5 86.7, 258.5 81.5 Q 258.5 76.5, 256.4 73.9 Q 254.3 71.3, 250.3 71.3 Q 246.4 71.3, 244.2 73.9 Q 242.1 76.4, 242.1 81.5 Q 242.1 86.8, 244.2 89.4 Q 246.4 92.0, 250.3 92.0 \" fill=\"#FF0000\"/>\n",
       "<path class=\"atom-3\" d=\"M 266.2 68.7 L 269.7 68.7 L 269.7 79.7 L 282.9 79.7 L 282.9 68.7 L 286.4 68.7 L 286.4 94.5 L 282.9 94.5 L 282.9 82.6 L 269.7 82.6 L 269.7 94.5 L 266.2 94.5 L 266.2 68.7 \" fill=\"#FF0000\"/>\n",
       "<path class=\"atom-4\" d=\"M 159.6 218.2 Q 159.6 212.0, 162.6 208.5 Q 165.7 205.1, 171.4 205.1 Q 177.1 205.1, 180.2 208.5 Q 183.3 212.0, 183.3 218.2 Q 183.3 224.5, 180.2 228.0 Q 177.1 231.6, 171.4 231.6 Q 165.7 231.6, 162.6 228.0 Q 159.6 224.5, 159.6 218.2 M 171.4 228.7 Q 175.4 228.7, 177.5 226.0 Q 179.6 223.4, 179.6 218.2 Q 179.6 213.1, 177.5 210.6 Q 175.4 208.0, 171.4 208.0 Q 167.5 208.0, 165.3 210.5 Q 163.2 213.1, 163.2 218.2 Q 163.2 223.4, 165.3 226.0 Q 167.5 228.7, 171.4 228.7 \" fill=\"#FF0000\"/>\n",
       "<path class=\"atom-4\" d=\"M 187.3 205.4 L 190.8 205.4 L 190.8 216.3 L 204.0 216.3 L 204.0 205.4 L 207.5 205.4 L 207.5 231.2 L 204.0 231.2 L 204.0 219.3 L 190.8 219.3 L 190.8 231.2 L 187.3 231.2 L 187.3 205.4 \" fill=\"#FF0000\"/>\n",
       "</svg>"
      ],
      "text/plain": [
       "<IPython.core.display.SVG object>"
      ]
     },
     "execution_count": 5,
     "metadata": {},
     "output_type": "execute_result"
    }
   ],
   "source": [
    "visualize_pyg_mol_with_poses(graphs[2])"
   ]
  }
 ],
 "metadata": {
  "kernelspec": {
   "display_name": "Python 3 (ipykernel)",
   "language": "python",
   "name": "python3"
  },
  "language_info": {
   "codemirror_mode": {
    "name": "ipython",
    "version": 3
   },
   "file_extension": ".py",
   "mimetype": "text/x-python",
   "name": "python",
   "nbconvert_exporter": "python",
   "pygments_lexer": "ipython3",
   "version": "3.10.12"
  },
  "orig_nbformat": 4
 },
 "nbformat": 4,
 "nbformat_minor": 2
}
