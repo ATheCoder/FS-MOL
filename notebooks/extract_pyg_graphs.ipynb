{
 "cells": [
  {
   "cell_type": "markdown",
   "metadata": {},
   "source": [
    "### Extract PyG Graphs from FS-MOL\n",
    "\n",
    "This notebook is used to extract all the graphs from FS-MOL's Train sample for contrastive learning."
   ]
  },
  {
   "cell_type": "code",
   "execution_count": 4,
   "metadata": {},
   "outputs": [],
   "source": [
    "import os\n",
    "import sys\n",
    "\n",
    "FS_MOL_CHECKOUT_PATH = os.path.abspath('../')\n",
    "\n",
    "os.chdir(FS_MOL_CHECKOUT_PATH)\n",
    "sys.path.insert(0, FS_MOL_CHECKOUT_PATH)"
   ]
  },
  {
   "cell_type": "code",
   "execution_count": 13,
   "metadata": {},
   "outputs": [],
   "source": [
    "from fs_mol.data import FSMolDataset, DataFold, FSMolTask\n",
    "from dpu_utils.utils import RichPath\n",
    "\n",
    "# from fs_mol.modules.graph_feature_extractor import (\n",
    "#     GraphFeatureExtractor,\n",
    "#     GraphFeatureExtractorConfig,\n",
    "# )\n",
    "# from fs_mol.data.fsmol_batcher import FSMolBatcher\n",
    "import torch\n",
    "from typing import List\n",
    "from fs_mol.custom.utils import convert_to_pyg_graph"
   ]
  },
  {
   "cell_type": "code",
   "execution_count": 7,
   "metadata": {},
   "outputs": [],
   "source": [
    "fsmol_dataset = FSMolDataset.from_directory(\n",
    "        directory=RichPath.create('/FS-MOL/datasets/fs-mol/'),\n",
    "        task_list_file=RichPath.create('/FS-MOL/datasets/fsmol-0.1.json'),\n",
    "    )\n",
    "\n",
    "def get_all_samples(fsmol_dataset):\n",
    "    def task_to_samples(paths: List[RichPath], idx: int):\n",
    "        task = FSMolTask.load_from_file(paths[0])\n",
    "        \n",
    "        return task.samples\n",
    "    \n",
    "    return iter(fsmol_dataset.get_task_reading_iterable(DataFold.TRAIN, task_reader_fn=task_to_samples))\n",
    "\n",
    "a = get_all_samples(fsmol_dataset)"
   ]
  },
  {
   "cell_type": "markdown",
   "metadata": {},
   "source": [
    "The `a` variable now includes all the molecule of FS-MOL's train dataset. we should now convert the FSMOL's data structure to PyG's `data`.\n",
    "\n",
    "We do this using the `convert_to_pyg_graph` function."
   ]
  },
  {
   "cell_type": "code",
   "execution_count": 9,
   "metadata": {},
   "outputs": [],
   "source": [
    "pyg_graphs = [convert_to_pyg_graph(graph) for graph in a]"
   ]
  },
  {
   "cell_type": "code",
   "execution_count": 12,
   "metadata": {},
   "outputs": [
    {
     "data": {
      "text/plain": [
       "Data(x=[52, 32], edge_index=[2, 55], edge_attr=[55], y=1, bool_label=True)"
      ]
     },
     "execution_count": 12,
     "metadata": {},
     "output_type": "execute_result"
    }
   ],
   "source": [
    "pyg_graphs[12]"
   ]
  },
  {
   "cell_type": "markdown",
   "metadata": {},
   "source": [
    "We should now save this data so that we can use for later usage."
   ]
  },
  {
   "cell_type": "code",
   "execution_count": 14,
   "metadata": {},
   "outputs": [],
   "source": [
    "torch.save(pyg_graphs, './fsmol_pygs.pt')"
   ]
  }
 ],
 "metadata": {
  "kernelspec": {
   "display_name": "Python 3.8.13 ('base')",
   "language": "python",
   "name": "python3"
  },
  "language_info": {
   "codemirror_mode": {
    "name": "ipython",
    "version": 3
   },
   "file_extension": ".py",
   "mimetype": "text/x-python",
   "name": "python",
   "nbconvert_exporter": "python",
   "pygments_lexer": "ipython3",
   "version": "3.8.13"
  },
  "orig_nbformat": 4,
  "vscode": {
   "interpreter": {
    "hash": "d4d1e4263499bec80672ea0156c357c1ee493ec2b1c70f0acce89fc37c4a6abe"
   }
  }
 },
 "nbformat": 4,
 "nbformat_minor": 2
}
