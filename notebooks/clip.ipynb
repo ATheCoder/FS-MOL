{
 "cells": [
  {
   "cell_type": "code",
   "execution_count": 1,
   "metadata": {},
   "outputs": [],
   "source": [
    "import os\n",
    "import sys\n",
    "\n",
    "FS_MOL_CHECKOUT_PATH = os.path.abspath('../')\n",
    "\n",
    "os.chdir(FS_MOL_CHECKOUT_PATH)\n",
    "sys.path.insert(0, FS_MOL_CHECKOUT_PATH)"
   ]
  },
  {
   "cell_type": "code",
   "execution_count": 2,
   "metadata": {},
   "outputs": [],
   "source": [
    "from torch_geometric.data import InMemoryDataset\n",
    "from torch.nn import functional as F\n",
    "from torch import nn\n",
    "import torch\n",
    "from torch_geometric.nn.conv import PNAConv, RGCNConv\n",
    "from torch_geometric.nn.models import GAT, PNA\n",
    "from torch_geometric.nn.aggr import SumAggregation\n",
    "from fs_mol.modules.graph_readout import CombinedGraphReadout\n",
    "from fs_mol.clip_like import FingerprintEncoder\n",
    "from torch_geometric.utils import to_undirected\n",
    "from fs_mol.modules.pyg_gnn import PyG_GraphFeatureExtractor\n",
    "from fs_mol.modules.graph_feature_extractor import GraphFeatureExtractorConfig\n",
    "from torch_geometric.loader import DataLoader\n",
    "from torch.utils.data import random_split\n",
    "from dataclasses import dataclass"
   ]
  },
  {
   "cell_type": "code",
   "execution_count": 3,
   "metadata": {},
   "outputs": [],
   "source": [
    "class MyOwnDataset(InMemoryDataset):\n",
    "    def __init__(self, root, raw_file_path, dest_file_name, transform=None, pre_transform=None, pre_filter=None):\n",
    "        self.dest = dest_file_name\n",
    "        self.raw_file_path = raw_file_path\n",
    "        super().__init__(root, transform, pre_transform, pre_filter)\n",
    "        \n",
    "        self.data, self.slices = torch.load(self.processed_paths[0], map_location=torch.device('cuda'))\n",
    "        \n",
    "    @property\n",
    "    def raw_file_names(self):\n",
    "        return [self.raw_file_path]\n",
    "    \n",
    "    @property\n",
    "    def processed_file_names(self):\n",
    "        return [self.dest]\n",
    "    \n",
    "    def process(self):\n",
    "        data_list = torch.load(self.raw_file_names[0])\n",
    "        \n",
    "        print(data_list)\n",
    "        \n",
    "        if self.pre_filter is not None:\n",
    "            data_list = [data for data in data_list if self.pre_filter(data)]\n",
    "        \n",
    "        if self.pre_transform is not None:\n",
    "            data_list = [self.pre_transform(data) for data in data_list]\n",
    "        \n",
    "        data, slices = self.collate(data_list)\n",
    "        \n",
    "        torch.save((data, slices), self.processed_paths[0])\n",
    "\n",
    "train_dataset = MyOwnDataset(root='/', raw_file_path='/FS-MOL/train_raw_mols.pt', dest_file_name='/FS-MOL/train_preprocessed_mols.pt')\n",
    "valid_dataset = MyOwnDataset(root='/', raw_file_path='/FS-MOL/valid_raw_mols.pt', dest_file_name='/FS-MOL/valid_preprocessed_mols.pt')     "
   ]
  },
  {
   "cell_type": "code",
   "execution_count": 4,
   "metadata": {},
   "outputs": [
    {
     "name": "stdout",
     "output_type": "stream",
     "text": [
      "Train Dataset Size: 216827\n",
      "Valid Dataset Size: 14735\n"
     ]
    }
   ],
   "source": [
    "print(f'Train Dataset Size: {len(train_dataset)}')\n",
    "print(f'Valid Dataset Size: {len(valid_dataset)}')"
   ]
  },
  {
   "cell_type": "code",
   "execution_count": null,
   "metadata": {},
   "outputs": [],
   "source": []
  },
  {
   "cell_type": "code",
   "execution_count": 5,
   "metadata": {},
   "outputs": [
    {
     "data": {
      "text/plain": [
       "5"
      ]
     },
     "execution_count": 5,
     "metadata": {},
     "output_type": "execute_result"
    }
   ],
   "source": [
    "@dataclass\n",
    "class TrainConfig:\n",
    "    epochs: int = 10\n",
    "    batch_size: int = 32\n",
    "    graph_encoder_num_layers: int = 5\n",
    "    graph_encoder_hidden_dim: int = 80\n",
    "    graph_encoder_out_dim: int = 256\n",
    "    graph_encoder_heads: int = 4\n",
    "    graph_encoder_edge_dim: int = 1\n",
    "    graph_encoder_dropout: float = 0.1\n",
    "    graph_encoder_mlp_hidden_dim: int = 512\n",
    "    \n",
    "    fingerprint_encoder_hidden_dim: int = 1024\n",
    "    fingerprint_encoder_output_dim: int = 512\n",
    "    fingerprint_encoder_dropout: int = 0.1\n",
    "    \n",
    "config = TrainConfig()\n",
    "\n",
    "config.graph_encoder_num_layers"
   ]
  },
  {
   "cell_type": "code",
   "execution_count": 6,
   "metadata": {},
   "outputs": [],
   "source": [
    "from torch_geometric.loader import DataLoader\n",
    "from torch.utils.data import random_split\n",
    "\n",
    "train_loader = DataLoader(train_dataset, batch_size=config.batch_size, shuffle=True, drop_last=False)\n",
    "valid_loader = DataLoader(valid_dataset, batch_size=config.batch_size, drop_last=False)\n",
    "\n",
    "batch = next(iter(train_loader))"
   ]
  },
  {
   "cell_type": "code",
   "execution_count": 7,
   "metadata": {},
   "outputs": [],
   "source": [
    "# deg_hist = PNAConv.get_degree_histogram(loader=loader)\n"
   ]
  },
  {
   "cell_type": "code",
   "execution_count": 8,
   "metadata": {},
   "outputs": [],
   "source": [
    "# class PNA_GraphEncoder(nn.Module):\n",
    "#     def __init__(self, deg_hist) -> None:\n",
    "#         super().__init__()\n",
    "        \n",
    "#         self.batch_size = 32\n",
    "        \n",
    "#         self.gnn = PNA(\n",
    "#             in_channels=32,\n",
    "#             hidden_channels=128,\n",
    "#             num_layers=10,\n",
    "#             out_channels=128,\n",
    "#             edge_dim=1,\n",
    "#             aggregators=['sum', 'mean', 'max', 'std'],\n",
    "#             scalers=['amplification', 'attenuation'],\n",
    "#             deg=deg_hist\n",
    "#         )\n",
    "        \n",
    "#         self.readout = CombinedGraphReadout(\n",
    "#             node_dim=128,\n",
    "#             out_dim=512,\n",
    "#             num_heads=12,\n",
    "#             head_dim=64,\n",
    "#         )\n",
    "        \n",
    "#     def forward(self, batch):\n",
    "#         edge_index, edge_attr = to_undirected(batch.edge_index, batch.edge_attr, 32)\n",
    "#         node_features = self.gnn(batch.x, edge_index, edge_attr=edge_attr)\n",
    "#         return self.readout(node_features, batch.batch, self.batch_size)\n",
    "    \n",
    "# model = PNA_GraphEncoder(deg_hist=deg_hist).cuda()\n",
    "\n",
    "# model(batch).shape"
   ]
  },
  {
   "cell_type": "code",
   "execution_count": 9,
   "metadata": {},
   "outputs": [
    {
     "data": {
      "text/plain": [
       "tensor([[-0.6943,  0.4627,  0.3599,  ...,  1.2139,  0.2754, -1.0201],\n",
       "        [-0.5942,  0.3890,  0.3243,  ...,  1.2098,  0.3400, -0.9228],\n",
       "        [-0.6145,  0.3334,  0.1615,  ...,  1.1944,  0.3325, -0.8099],\n",
       "        ...,\n",
       "        [-0.5830,  0.3726,  0.3106,  ...,  1.2075,  0.2881, -1.0368],\n",
       "        [-0.6587,  0.4870,  0.2075,  ...,  1.1493,  0.1682, -0.9762],\n",
       "        [-0.5897,  0.3647,  0.3321,  ...,  1.2491,  0.3384, -0.9824]],\n",
       "       device='cuda:0', grad_fn=<AddmmBackward0>)"
      ]
     },
     "execution_count": 9,
     "metadata": {},
     "output_type": "execute_result"
    }
   ],
   "source": [
    "from torch_geometric.nn.norm import LayerNorm\n",
    "\n",
    "class GAT_GraphEncoder(nn.Module):\n",
    "    def __init__(self):\n",
    "        super().__init__()\n",
    "        self.gnn = GAT(\n",
    "            32,\n",
    "            hidden_channels=config.graph_encoder_hidden_dim,\n",
    "            num_layers=config.graph_encoder_num_layers,\n",
    "            out_channels=config.graph_encoder_out_dim,\n",
    "            heads=config.graph_encoder_heads,\n",
    "            v2=True,\n",
    "            edge_dim=config.graph_encoder_edge_dim,\n",
    "            dropout=config.graph_encoder_dropout,\n",
    "            add_self_loops=True,\n",
    "        )\n",
    "        \n",
    "        self.aggr = SumAggregation()\n",
    "        \n",
    "        mlp_hidden_dim = config.fingerprint_encoder_hidden_dim\n",
    "        mlp_output_dim = config.fingerprint_encoder_output_dim\n",
    "        \n",
    "        self.mlp = nn.Sequential(\n",
    "            nn.Linear(config.graph_encoder_out_dim, mlp_hidden_dim),\n",
    "            nn.ReLU(),\n",
    "            nn.LayerNorm(mlp_hidden_dim),\n",
    "            nn.Linear(mlp_hidden_dim, mlp_output_dim)\n",
    "        )\n",
    "        \n",
    "    def forward(self, batch):\n",
    "        node_feats = self.gnn(batch.x, batch.edge_index, edge_attr=batch.edge_attr.to(torch.float32))\n",
    "        graph_feats = self.aggr(node_feats, batch.batch)\n",
    "        \n",
    "        return self.mlp(graph_feats)\n",
    "        \n",
    "model = GAT_GraphEncoder().to('cuda')\n",
    "\n",
    "model(batch)"
   ]
  },
  {
   "cell_type": "code",
   "execution_count": 10,
   "metadata": {},
   "outputs": [
    {
     "name": "stderr",
     "output_type": "stream",
     "text": [
      "Failed to detect the name of this notebook, you can set it manually with the WANDB_NOTEBOOK_NAME environment variable to enable code saving.\n",
      "\u001b[34m\u001b[1mwandb\u001b[0m: Currently logged in as: \u001b[33mathecoder\u001b[0m (\u001b[33mdest\u001b[0m). Use \u001b[1m`wandb login --relogin`\u001b[0m to force relogin\n"
     ]
    },
    {
     "data": {
      "application/vnd.jupyter.widget-view+json": {
       "model_id": "10b20119e326410a9890c573605e37e5",
       "version_major": 2,
       "version_minor": 0
      },
      "text/plain": [
       "VBox(children=(Label(value='Waiting for wandb.init()...\\r'), FloatProgress(value=0.016668033449999106, max=1.0…"
      ]
     },
     "metadata": {},
     "output_type": "display_data"
    },
    {
     "data": {
      "text/html": [
       "wandb version 0.14.0 is available!  To upgrade, please run:\n",
       " $ pip install wandb --upgrade"
      ],
      "text/plain": [
       "<IPython.core.display.HTML object>"
      ]
     },
     "metadata": {},
     "output_type": "display_data"
    },
    {
     "data": {
      "text/html": [
       "Tracking run with wandb version 0.13.7"
      ],
      "text/plain": [
       "<IPython.core.display.HTML object>"
      ]
     },
     "metadata": {},
     "output_type": "display_data"
    },
    {
     "data": {
      "text/html": [
       "Run data is saved locally in <code>/FS-MOL/wandb/run-20230318_094407-11k3h7b6</code>"
      ],
      "text/plain": [
       "<IPython.core.display.HTML object>"
      ]
     },
     "metadata": {},
     "output_type": "display_data"
    },
    {
     "data": {
      "text/html": [
       "Syncing run <strong><a href=\"https://wandb.ai/dest/FS-Mol/runs/11k3h7b6\" target=\"_blank\">zesty-sea-93</a></strong> to <a href=\"https://wandb.ai/dest/FS-Mol\" target=\"_blank\">Weights & Biases</a> (<a href=\"https://wandb.me/run\" target=\"_blank\">docs</a>)<br/>"
      ],
      "text/plain": [
       "<IPython.core.display.HTML object>"
      ]
     },
     "metadata": {},
     "output_type": "display_data"
    },
    {
     "name": "stderr",
     "output_type": "stream",
     "text": [
      "/opt/conda/lib/python3.8/site-packages/pytorch_lightning/loggers/wandb.py:396: UserWarning: There is a wandb run already in progress and newly created instances of `WandbLogger` will reuse this run. If this is not desired, call `wandb.finish()` before instantiating `WandbLogger`.\n",
      "  rank_zero_warn(\n",
      "GPU available: True (cuda), used: True\n",
      "TPU available: False, using: 0 TPU cores\n",
      "IPU available: False, using: 0 IPUs\n",
      "HPU available: False, using: 0 HPUs\n",
      "LOCAL_RANK: 0 - CUDA_VISIBLE_DEVICES: [0]\n",
      "\n",
      "  | Name                | Type               | Params\n",
      "-----------------------------------------------------------\n",
      "0 | graph_encoder       | GAT_GraphEncoder   | 1.0 M \n",
      "1 | fingerprint_encoder | FingerprintEncoder | 2.6 M \n",
      "-----------------------------------------------------------\n",
      "3.6 M     Trainable params\n",
      "0         Non-trainable params\n",
      "3.6 M     Total params\n",
      "14.513    Total estimated model params size (MB)\n"
     ]
    },
    {
     "data": {
      "application/vnd.jupyter.widget-view+json": {
       "model_id": "791a7499af4c4aa3994017292b1cf30e",
       "version_major": 2,
       "version_minor": 0
      },
      "text/plain": [
       "Sanity Checking: 0it [00:00, ?it/s]"
      ]
     },
     "metadata": {},
     "output_type": "display_data"
    },
    {
     "name": "stderr",
     "output_type": "stream",
     "text": [
      "/opt/conda/lib/python3.8/site-packages/pytorch_lightning/trainer/connectors/data_connector.py:224: PossibleUserWarning: The dataloader, val_dataloader 0, does not have many workers which may be a bottleneck. Consider increasing the value of the `num_workers` argument` (try 20 which is the number of cpus on this machine) in the `DataLoader` init to improve performance.\n",
      "  rank_zero_warn(\n",
      "/opt/conda/lib/python3.8/site-packages/pytorch_lightning/trainer/connectors/data_connector.py:224: PossibleUserWarning: The dataloader, train_dataloader, does not have many workers which may be a bottleneck. Consider increasing the value of the `num_workers` argument` (try 20 which is the number of cpus on this machine) in the `DataLoader` init to improve performance.\n",
      "  rank_zero_warn(\n"
     ]
    },
    {
     "data": {
      "application/vnd.jupyter.widget-view+json": {
       "model_id": "70fca110693c4075863676900fcbfdc4",
       "version_major": 2,
       "version_minor": 0
      },
      "text/plain": [
       "Training: 0it [00:00, ?it/s]"
      ]
     },
     "metadata": {},
     "output_type": "display_data"
    },
    {
     "data": {
      "application/vnd.jupyter.widget-view+json": {
       "model_id": "babb53b20e0e4b0db4eece651a335400",
       "version_major": 2,
       "version_minor": 0
      },
      "text/plain": [
       "Validation: 0it [00:00, ?it/s]"
      ]
     },
     "metadata": {},
     "output_type": "display_data"
    },
    {
     "data": {
      "application/vnd.jupyter.widget-view+json": {
       "model_id": "beda3203575240a8bd24fcfab6aae26e",
       "version_major": 2,
       "version_minor": 0
      },
      "text/plain": [
       "Validation: 0it [00:00, ?it/s]"
      ]
     },
     "metadata": {},
     "output_type": "display_data"
    },
    {
     "data": {
      "application/vnd.jupyter.widget-view+json": {
       "model_id": "56b83eabe12148fea43410cc12027dba",
       "version_major": 2,
       "version_minor": 0
      },
      "text/plain": [
       "Validation: 0it [00:00, ?it/s]"
      ]
     },
     "metadata": {},
     "output_type": "display_data"
    },
    {
     "data": {
      "application/vnd.jupyter.widget-view+json": {
       "model_id": "7f774d27d29a4ca5b2eb938fbbf116ed",
       "version_major": 2,
       "version_minor": 0
      },
      "text/plain": [
       "Validation: 0it [00:00, ?it/s]"
      ]
     },
     "metadata": {},
     "output_type": "display_data"
    }
   ],
   "source": [
    "import pytorch_lightning as pl\n",
    "from pytorch_lightning.loggers import WandbLogger\n",
    "from wandb import wandb\n",
    "\n",
    "valid_step = 0\n",
    "\n",
    "class ClipLike(pl.LightningModule):\n",
    "    def __init__(self):\n",
    "        super().__init__()\n",
    "        self.temp = 0.1\n",
    "        # self.graph_encoder = PyG_GraphFeatureExtractor(GraphFeatureExtractorConfig())\n",
    "        self.graph_encoder = GAT_GraphEncoder()\n",
    "        self.fingerprint_encoder = FingerprintEncoder(2048, config.fingerprint_encoder_hidden_dim, config.fingerprint_encoder_output_dim, config.fingerprint_encoder_dropout)\n",
    "    \n",
    "    def training_step(self, batch, batch_idx):\n",
    "        encoded_graphs = self.graph_encoder(batch)\n",
    "        encoded_fingerprints = self.fingerprint_encoder(batch.fingerprint.reshape(-1, 2048).to(torch.float32))\n",
    "        # TODO: Check the OpenAI's Codebase on CLIP and make sure this is right.\n",
    "        logits = encoded_graphs @ encoded_fingerprints.T / self.temp\n",
    "        \n",
    "        current_batch_size = encoded_graphs.shape[0]\n",
    "        \n",
    "        targets = torch.eye(current_batch_size).cuda() / self.temp\n",
    "        \n",
    "        loss = F.cross_entropy(logits, targets, reduction=\"none\")\n",
    "        \n",
    "        loss = loss.mean()\n",
    "        self.log('train_loss', loss, batch_size=current_batch_size)\n",
    "        return loss\n",
    "    \n",
    "    def validation_step(self, batch, batch_idx):\n",
    "        encoded_graphs = self.graph_encoder(batch)\n",
    "        encoded_fingerprints = self.fingerprint_encoder(batch.fingerprint.reshape(-1, 2048).to(torch.float32))\n",
    "        # TODO: Check the OpenAI's Codebase on CLIP and make sure this is right.\n",
    "        logits = encoded_graphs @ encoded_fingerprints.T / self.temp\n",
    "        \n",
    "        current_batch_size = encoded_graphs.shape[0]\n",
    "        \n",
    "        targets = torch.eye(current_batch_size).cuda() / self.temp\n",
    "        \n",
    "        loss = F.cross_entropy(logits, targets, reduction=\"none\")\n",
    "        \n",
    "        loss = loss.mean()\n",
    "        self.log('valid_loss', loss, batch_size=current_batch_size)\n",
    "    \n",
    "    def configure_optimizers(self):\n",
    "        return torch.optim.Adam(self.parameters(), lr=1e-3)\n",
    "    \n",
    "wandb.init(config=config)\n",
    "model = ClipLike()\n",
    "wandb.watch(model, log='all')\n",
    "    \n",
    "trainer = pl.Trainer(logger=WandbLogger(), accelerator='gpu', devices=1, max_epochs=100)\n",
    "trainer.fit(model=model, train_dataloaders=train_loader, val_dataloaders=valid_loader)\n",
    "\n"
   ]
  }
 ],
 "metadata": {
  "kernelspec": {
   "display_name": "base",
   "language": "python",
   "name": "python3"
  },
  "language_info": {
   "codemirror_mode": {
    "name": "ipython",
    "version": 3
   },
   "file_extension": ".py",
   "mimetype": "text/x-python",
   "name": "python",
   "nbconvert_exporter": "python",
   "pygments_lexer": "ipython3",
   "version": "3.8.16"
  },
  "orig_nbformat": 4,
  "vscode": {
   "interpreter": {
    "hash": "d4d1e4263499bec80672ea0156c357c1ee493ec2b1c70f0acce89fc37c4a6abe"
   }
  }
 },
 "nbformat": 4,
 "nbformat_minor": 2
}
