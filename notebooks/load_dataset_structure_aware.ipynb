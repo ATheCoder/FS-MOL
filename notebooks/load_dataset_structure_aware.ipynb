{
 "cells": [
  {
   "attachments": {},
   "cell_type": "markdown",
   "metadata": {},
   "source": [
    "In order to do structure aware transformer on FS-MOL we first need to extract the K_Hop Subgraphs of a single Graph instance. This is where we will figure out how to do that. "
   ]
  },
  {
   "cell_type": "code",
   "execution_count": 1,
   "metadata": {},
   "outputs": [],
   "source": [
    "import os\n",
    "import sys\n",
    "\n",
    "FS_MOL_CHECKOUT_PATH = os.path.abspath('../')\n",
    "\n",
    "os.chdir(FS_MOL_CHECKOUT_PATH)\n",
    "sys.path.insert(0, FS_MOL_CHECKOUT_PATH)"
   ]
  },
  {
   "cell_type": "code",
   "execution_count": 2,
   "metadata": {},
   "outputs": [],
   "source": [
    "from fs_mol.data import FSMolDataset, DataFold, FSMolTask\n",
    "\n",
    "FS_MOL_DATASET_PATH = '/FS-MOL/datasets/fs-mol/'\n",
    "\n",
    "dataset = FSMolDataset.from_directory(FS_MOL_DATASET_PATH, num_workers=0)\n",
    "\n"
   ]
  },
  {
   "cell_type": "code",
   "execution_count": 3,
   "metadata": {},
   "outputs": [],
   "source": [
    "def task_reader(paths, idx):\n",
    "    print(paths)\n",
    "    \n",
    "    task = FSMolTask.load_from_file(paths[0], output_type='s_attn')\n",
    "    \n",
    "    return [task]\n",
    "\n",
    "iterator = dataset.get_task_reading_iterable(DataFold.TRAIN, task_reader)"
   ]
  },
  {
   "cell_type": "code",
   "execution_count": 4,
   "metadata": {},
   "outputs": [],
   "source": [
    "iterator = iter(iterator)"
   ]
  },
  {
   "cell_type": "code",
   "execution_count": 5,
   "metadata": {},
   "outputs": [
    {
     "name": "stdout",
     "output_type": "stream",
     "text": [
      "[/FS-MOL/datasets/fs-mol/train/CHEMBL659000.jsonl.gz]\n",
      "torch.Size([2, 43])\n",
      "torch.Size([2, 49])\n",
      "torch.Size([2, 40])\n",
      "torch.Size([2, 53])\n",
      "torch.Size([2, 42])\n",
      "torch.Size([2, 44])\n",
      "torch.Size([2, 48])\n",
      "torch.Size([2, 48])\n",
      "torch.Size([2, 27])\n",
      "torch.Size([2, 43])\n",
      "torch.Size([2, 55])\n",
      "torch.Size([2, 49])\n",
      "torch.Size([2, 27])\n",
      "torch.Size([2, 30])\n",
      "torch.Size([2, 27])\n",
      "torch.Size([2, 39])\n",
      "torch.Size([2, 42])\n",
      "torch.Size([2, 45])\n",
      "torch.Size([2, 46])\n",
      "torch.Size([2, 55])\n",
      "torch.Size([2, 53])\n",
      "torch.Size([2, 61])\n",
      "torch.Size([2, 32])\n",
      "torch.Size([2, 35])\n",
      "torch.Size([2, 40])\n",
      "torch.Size([2, 33])\n",
      "torch.Size([2, 51])\n",
      "torch.Size([2, 29])\n",
      "torch.Size([2, 35])\n",
      "torch.Size([2, 38])\n",
      "torch.Size([2, 52])\n",
      "torch.Size([2, 42])\n",
      "torch.Size([2, 46])\n",
      "torch.Size([2, 47])\n",
      "torch.Size([2, 51])\n",
      "torch.Size([2, 28])\n",
      "torch.Size([2, 47])\n",
      "torch.Size([2, 47])\n",
      "torch.Size([2, 41])\n",
      "torch.Size([2, 42])\n",
      "torch.Size([2, 34])\n",
      "torch.Size([2, 40])\n",
      "torch.Size([2, 45])\n",
      "torch.Size([2, 26])\n",
      "torch.Size([2, 32])\n"
     ]
    },
    {
     "data": {
      "text/plain": [
       "Data(x=[42, 32], edge_index=[2, 43], edge_attr=[43], subgraph_node_index=[220], subgraph_edge_index=[2, 178], subgraph_indicator_index=[220], subgraph_edge_attr=[178])"
      ]
     },
     "execution_count": 5,
     "metadata": {},
     "output_type": "execute_result"
    }
   ],
   "source": [
    "example = next(iterator)\n",
    "\n",
    "graph = example.samples[0].graph\n",
    "\n",
    "graph"
   ]
  },
  {
   "cell_type": "code",
   "execution_count": 6,
   "metadata": {},
   "outputs": [
    {
     "name": "stdout",
     "output_type": "stream",
     "text": [
      "torch.Size([2, 43])\n"
     ]
    },
    {
     "data": {
      "text/plain": [
       "Data(x=[42, 32], edge_index=[2, 43], edge_attr=[43], subgraph_node_index=[220], subgraph_edge_index=[2, 178], subgraph_indicator_index=[220], subgraph_edge_attr=[178])"
      ]
     },
     "execution_count": 6,
     "metadata": {},
     "output_type": "execute_result"
    }
   ],
   "source": [
    "import torch_geometric.utils as utils\n",
    "from torch_geometric.data import Data\n",
    "import torch\n",
    "\n",
    "def add_subgraph_info(graph, k_hops: int):\n",
    "    print(graph.edge_index.shape)\n",
    "    num_nodes = graph.x.shape[0]\n",
    "    \n",
    "    node_indices = []\n",
    "    edge_indices = []\n",
    "    edge_attributes = []\n",
    "    indicators = []\n",
    "    edge_index_start = 0\n",
    "    \n",
    "    for node_idx in range(num_nodes):\n",
    "        sub_nodes, sub_edge_index, _, edge_mask = utils.k_hop_subgraph(\n",
    "                            node_idx, \n",
    "                            k_hops, \n",
    "                            graph.edge_index,\n",
    "                            relabel_nodes=True, \n",
    "                            num_nodes=num_nodes\n",
    "                            )\n",
    "\n",
    "        node_indices.append(sub_nodes)\n",
    "        edge_indices.append(sub_edge_index + edge_index_start)\n",
    "        indicators.append(torch.zeros(sub_nodes.shape[0]).fill_(node_idx))\n",
    "        edge_attributes.append(graph.edge_attr[edge_mask]) # CHECK THIS DIDN\"T BREAK ANYTHING\n",
    "        edge_index_start += len(sub_nodes)\n",
    "        \n",
    "    graph.subgraph_node_index = torch.cat(node_indices)\n",
    "    graph.subgraph_edge_index = torch.cat(edge_indices, dim=1)\n",
    "    graph.subgraph_indicator_index = torch.cat(indicators)\n",
    "    graph.subgraph_edge_attr = torch.cat(edge_attributes)\n",
    "    \n",
    "    return graph\n",
    "        \n",
    "add_subgraph_info(graph, 4)"
   ]
  }
 ],
 "metadata": {
  "kernelspec": {
   "display_name": "base",
   "language": "python",
   "name": "python3"
  },
  "language_info": {
   "codemirror_mode": {
    "name": "ipython",
    "version": 3
   },
   "file_extension": ".py",
   "mimetype": "text/x-python",
   "name": "python",
   "nbconvert_exporter": "python",
   "pygments_lexer": "ipython3",
   "version": "3.8.13"
  },
  "orig_nbformat": 4,
  "vscode": {
   "interpreter": {
    "hash": "d4d1e4263499bec80672ea0156c357c1ee493ec2b1c70f0acce89fc37c4a6abe"
   }
  }
 },
 "nbformat": 4,
 "nbformat_minor": 2
}
